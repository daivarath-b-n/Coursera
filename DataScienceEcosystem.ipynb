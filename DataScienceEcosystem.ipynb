{
 "cells": [
  {
   "cell_type": "markdown",
   "id": "dcd21e32",
   "metadata": {},
   "source": [
    "# Data Science Tools and Ecosystem"
   ]
  },
  {
   "cell_type": "markdown",
   "id": "0678e844",
   "metadata": {},
   "source": [
    "In this notebook, Data Science Tools and Ecosystem are summarized."
   ]
  },
  {
   "cell_type": "markdown",
   "id": "3efe377f",
   "metadata": {},
   "source": [
    "**Objectives:**\n",
    "- This notebook contains the basic knowledge regarding data science tools.\n",
    "- There are several topics like popular languages, environments, and many more mentioned.\n",
    "- There are some code examples included in this notebook."
   ]
  },
  {
   "cell_type": "markdown",
   "id": "8cb66b13",
   "metadata": {},
   "source": [
    "Some of the popular languages that Data Scientists use are:\n",
    "1. python\n",
    "2. R\n",
    "3. julia\n",
    "4. scala\n",
    "and many more"
   ]
  },
  {
   "cell_type": "markdown",
   "id": "89ff14d4",
   "metadata": {},
   "source": [
    "Some of the commonly used libraries used by Data Scientists include:\n",
    "1. numpy\n",
    "2. panda\n",
    "3. scikit-learn\n",
    "4. matplotlib.pyplot"
   ]
  },
  {
   "cell_type": "markdown",
   "id": "d0974091",
   "metadata": {},
   "source": [
    "|Data Science Tools|\n",
    "|-----------|\n",
    "|Jupyter Notebook|\n",
    "|RStudio|\n",
    "|VSCode|"
   ]
  },
  {
   "cell_type": "markdown",
   "id": "0ccdcf29",
   "metadata": {},
   "source": [
    "### Below are a few examples of evaluating arithmetic expressions in Python\n",
    "|Arithmetic expressions|Examples|\n",
    "|------------|---------|\n",
    "|Addition ( + )|1 + 2 = 3|\n",
    "|Subtraction ( - )|3 - 1 = 2|\n",
    "|Multiplication ( * )|1 * 1 = 1|\n",
    "|Division ( / )|1 / 1 = 1|"
   ]
  },
  {
   "cell_type": "code",
   "execution_count": 1,
   "id": "ab126b17",
   "metadata": {},
   "outputs": [
    {
     "data": {
      "text/plain": [
       "17"
      ]
     },
     "execution_count": 1,
     "metadata": {},
     "output_type": "execute_result"
    }
   ],
   "source": [
    "(3*4)+5\n",
    "#This a simple arithmetic expression to mutiply then add integers"
   ]
  },
  {
   "cell_type": "code",
   "execution_count": 2,
   "id": "da954707",
   "metadata": {},
   "outputs": [
    {
     "data": {
      "text/plain": [
       "3.3333333333333335"
      ]
     },
     "execution_count": 2,
     "metadata": {},
     "output_type": "execute_result"
    }
   ],
   "source": [
    "200/60\n",
    "#This will convert 200 minutes to hours by diving by 60"
   ]
  },
  {
   "cell_type": "markdown",
   "id": "a1d71544",
   "metadata": {},
   "source": [
    "## Author\n",
    "Daivarath B N"
   ]
  }
 ],
 "metadata": {
  "kernelspec": {
   "display_name": "Python 3 (ipykernel)",
   "language": "python",
   "name": "python3"
  },
  "language_info": {
   "codemirror_mode": {
    "name": "ipython",
    "version": 3
   },
   "file_extension": ".py",
   "mimetype": "text/x-python",
   "name": "python",
   "nbconvert_exporter": "python",
   "pygments_lexer": "ipython3",
   "version": "3.11.4"
  }
 },
 "nbformat": 4,
 "nbformat_minor": 5
}
